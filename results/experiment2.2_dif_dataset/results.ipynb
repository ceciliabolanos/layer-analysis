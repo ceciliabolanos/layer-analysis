{
 "cells": [
  {
   "cell_type": "markdown",
   "metadata": {},
   "source": [
    "# Load and plot results"
   ]
  },
  {
   "cell_type": "code",
   "execution_count": 1,
   "metadata": {},
   "outputs": [],
   "source": [
    "import json\n",
    "from pathlib import Path\n",
    "import seaborn as sns\n",
    "from matplotlib.pyplot import plt\n",
    "\n",
    "\n",
    "with Path('cka_encodecmae_mel256-ec-base_st-nopn_encodecmae_mel256-ec-base_st-nopn.json').open('r', encoding='utf-8') as file:\n",
    "    base_st = json.load(file)\n",
    "\n",
    "with Path('cka_encodecmae_mel256-ec-base-as_encodecmae_mel256-ec-base-as.json').open('r', encoding='utf-8') as file:\n",
    "    mae_as = json.load(file)\n",
    "\n",
    "with Path('cka_encodecmae_mel256-ec-base-fma_encodecmae_mel256-ec-base-fma.json').open('r', encoding='utf-8') as file:\n",
    "    mae_fma = json.load(file)\n",
    "\n",
    "with Path('cka_encodecmae_mel256-ec-base-ll_encodecmae_mel256-ec-base-ll.json').open('r', encoding='utf-8') as file:\n",
    "    mae_ll = json.load(file)    "
   ]
  },
  {
   "cell_type": "code",
   "execution_count": null,
   "metadata": {},
   "outputs": [],
   "source": [
    "data1 = base_st  \n",
    "data2 = mae_ll \n",
    "data3 = mae_as \n",
    "data4 = mae_fma\n",
    "fig, axs = plt.subplots(1, 3, figsize=(16, 12))\n",
    "\n",
    "# Gráfico 1\n",
    "sns.heatmap(data1, fmt=\".1f\", cmap='viridis', cbar_kws={'label': 'CKA (Linear)'}, ax=axs[0, 0])\n",
    "axs[0, 0].set_ylim(0, len(data1))\n",
    "axs[0, 0].set_title('Entrenado con Self-Training')\n",
    "axs[0, 0].set_ylabel('Capas')\n",
    "axs[0, 0].set_xticks([i + 0.5 for i in range(len(data1))])\n",
    "axs[0, 0].set_xticklabels(range(1, len(data1) + 1))\n",
    "axs[0, 0].set_yticks([i + 0.5 for i in range(len(data1))])\n",
    "axs[0, 0].set_yticklabels(range(1, len(data1) + 1))\n",
    "\n",
    "# Gráfico 2\n",
    "sns.heatmap(data2, fmt=\".1f\", cmap='viridis', cbar_kws={'label': 'CKA (Linear)'}, ax=axs[0, 1])\n",
    "axs[0, 1].set_ylim(0, len(data2))\n",
    "axs[0, 1].set_title('Entrenado con LibriLight')\n",
    "axs[0, 1].set_xticks([i + 0.5 for i in range(len(data2))])\n",
    "axs[0, 1].set_xticklabels(range(1, len(data2) + 1))\n",
    "axs[0, 1].set_yticks([i + 0.5 for i in range(len(data2))])\n",
    "axs[0, 1].set_yticklabels(range(1, len(data2) + 1))\n",
    "\n",
    "# Gráfico 3\n",
    "sns.heatmap(data3, fmt=\".1f\", cmap='viridis', cbar_kws={'label': 'CKA (Linear)'}, ax=axs[1, 0])\n",
    "axs[0, 2].set_ylim(0, len(data3))\n",
    "axs[0, 2].set_title('Entrenado con AudioSet')\n",
    "axs[0, 2].set_xlabel('Capas')\n",
    "axs[0, 2].set_ylabel('Capas')\n",
    "axs[0, 2].set_xticks([i + 0.5 for i in range(len(data3))])\n",
    "axs[0, 2].set_xticklabels(range(1, len(data3) + 1))\n",
    "axs[0, 2].set_yticks([i + 0.5 for i in range(len(data3))])\n",
    "axs[0, 2].set_yticklabels(range(1, len(data3) + 1))\n",
    "\n",
    "# # Gráfico 4\n",
    "# sns.heatmap(data4, fmt=\".1f\", cmap='viridis', cbar_kws={'label': 'CKA (Linear)'}, ax=axs[1, 1])\n",
    "# axs[1, 1].set_ylim(0, len(data4))\n",
    "# axs[1, 1].set_title('Entrenado con FMA')\n",
    "# axs[1, 1].set_xlabel('Capas')\n",
    "# axs[1, 1].set_xticks([i + 0.5 for i in range(len(data4))])\n",
    "# axs[1, 1].set_xticklabels(range(1, len(data4) + 1))\n",
    "# axs[1, 1].set_yticks([i + 0.5 for i in range(len(data4))])\n",
    "# axs[1, 1].set_yticklabels(range(1, len(data4) + 1))\n",
    "\n",
    "plt.tight_layout()\n",
    "plt.show()"
   ]
  }
 ],
 "metadata": {
  "kernelspec": {
   "display_name": "tesis",
   "language": "python",
   "name": "python3"
  },
  "language_info": {
   "codemirror_mode": {
    "name": "ipython",
    "version": 3
   },
   "file_extension": ".py",
   "mimetype": "text/x-python",
   "name": "python",
   "nbconvert_exporter": "python",
   "pygments_lexer": "ipython3",
   "version": "3.10.14"
  }
 },
 "nbformat": 4,
 "nbformat_minor": 2
}
