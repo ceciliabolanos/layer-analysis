{
 "cells": [
  {
   "cell_type": "code",
   "execution_count": 43,
   "metadata": {},
   "outputs": [
    {
     "name": "stdout",
     "output_type": "stream",
     "text": [
      "Requirement already satisfied: s3prl in ./tesis/lib/python3.10/site-packages (0.4.14)\n",
      "Requirement already satisfied: torchaudio>=0.8.0 in ./tesis/lib/python3.10/site-packages (from s3prl) (2.2.1)\n",
      "Requirement already satisfied: torch!=1.10.0,>=1.8.0 in ./tesis/lib/python3.10/site-packages (from s3prl) (2.2.1)\n",
      "Requirement already satisfied: tqdm>=4.56.0 in ./tesis/lib/python3.10/site-packages (from s3prl) (4.66.2)\n",
      "Requirement already satisfied: numpy>=1.21 in ./tesis/lib/python3.10/site-packages (from s3prl) (1.26.4)\n",
      "Requirement already satisfied: PyYAML>=5.4.1 in ./tesis/lib/python3.10/site-packages (from s3prl) (6.0.1)\n",
      "Requirement already satisfied: filelock in ./tesis/lib/python3.10/site-packages (from s3prl) (3.13.1)\n",
      "Requirement already satisfied: omegaconf>=2.1.1 in ./tesis/lib/python3.10/site-packages (from s3prl) (2.3.0)\n",
      "Requirement already satisfied: setuptools>=65.5.1 in ./tesis/lib/python3.10/site-packages (from s3prl) (69.1.1)\n",
      "Requirement already satisfied: requests in ./tesis/lib/python3.10/site-packages (from s3prl) (2.31.0)\n",
      "Requirement already satisfied: transformers in ./tesis/lib/python3.10/site-packages (from s3prl) (4.38.2)\n",
      "Requirement already satisfied: protobuf==3.20.3 in ./tesis/lib/python3.10/site-packages (from s3prl) (3.20.3)\n",
      "Requirement already satisfied: antlr4-python3-runtime==4.9.* in ./tesis/lib/python3.10/site-packages (from omegaconf>=2.1.1->s3prl) (4.9.3)\n",
      "Requirement already satisfied: nvidia-cuda-runtime-cu12==12.1.105 in ./tesis/lib/python3.10/site-packages (from torch!=1.10.0,>=1.8.0->s3prl) (12.1.105)\n",
      "Requirement already satisfied: networkx in ./tesis/lib/python3.10/site-packages (from torch!=1.10.0,>=1.8.0->s3prl) (3.2.1)\n",
      "Requirement already satisfied: nvidia-nccl-cu12==2.19.3 in ./tesis/lib/python3.10/site-packages (from torch!=1.10.0,>=1.8.0->s3prl) (2.19.3)\n",
      "Requirement already satisfied: nvidia-cuda-nvrtc-cu12==12.1.105 in ./tesis/lib/python3.10/site-packages (from torch!=1.10.0,>=1.8.0->s3prl) (12.1.105)\n",
      "Requirement already satisfied: nvidia-cuda-cupti-cu12==12.1.105 in ./tesis/lib/python3.10/site-packages (from torch!=1.10.0,>=1.8.0->s3prl) (12.1.105)\n",
      "Requirement already satisfied: fsspec in ./tesis/lib/python3.10/site-packages (from torch!=1.10.0,>=1.8.0->s3prl) (2024.2.0)\n",
      "Requirement already satisfied: sympy in ./tesis/lib/python3.10/site-packages (from torch!=1.10.0,>=1.8.0->s3prl) (1.12)\n",
      "Requirement already satisfied: triton==2.2.0 in ./tesis/lib/python3.10/site-packages (from torch!=1.10.0,>=1.8.0->s3prl) (2.2.0)\n",
      "Requirement already satisfied: nvidia-cufft-cu12==11.0.2.54 in ./tesis/lib/python3.10/site-packages (from torch!=1.10.0,>=1.8.0->s3prl) (11.0.2.54)\n",
      "Requirement already satisfied: nvidia-nvtx-cu12==12.1.105 in ./tesis/lib/python3.10/site-packages (from torch!=1.10.0,>=1.8.0->s3prl) (12.1.105)\n",
      "Requirement already satisfied: nvidia-cudnn-cu12==8.9.2.26 in ./tesis/lib/python3.10/site-packages (from torch!=1.10.0,>=1.8.0->s3prl) (8.9.2.26)\n",
      "Requirement already satisfied: typing-extensions>=4.8.0 in ./tesis/lib/python3.10/site-packages (from torch!=1.10.0,>=1.8.0->s3prl) (4.10.0)\n",
      "Requirement already satisfied: nvidia-cusolver-cu12==11.4.5.107 in ./tesis/lib/python3.10/site-packages (from torch!=1.10.0,>=1.8.0->s3prl) (11.4.5.107)\n",
      "Requirement already satisfied: nvidia-curand-cu12==10.3.2.106 in ./tesis/lib/python3.10/site-packages (from torch!=1.10.0,>=1.8.0->s3prl) (10.3.2.106)\n",
      "Requirement already satisfied: nvidia-cublas-cu12==12.1.3.1 in ./tesis/lib/python3.10/site-packages (from torch!=1.10.0,>=1.8.0->s3prl) (12.1.3.1)\n",
      "Requirement already satisfied: jinja2 in ./tesis/lib/python3.10/site-packages (from torch!=1.10.0,>=1.8.0->s3prl) (3.1.3)\n",
      "Requirement already satisfied: nvidia-cusparse-cu12==12.1.0.106 in ./tesis/lib/python3.10/site-packages (from torch!=1.10.0,>=1.8.0->s3prl) (12.1.0.106)\n",
      "Requirement already satisfied: nvidia-nvjitlink-cu12 in ./tesis/lib/python3.10/site-packages (from nvidia-cusolver-cu12==11.4.5.107->torch!=1.10.0,>=1.8.0->s3prl) (12.3.101)\n",
      "Requirement already satisfied: certifi>=2017.4.17 in ./tesis/lib/python3.10/site-packages (from requests->s3prl) (2024.2.2)\n",
      "Requirement already satisfied: idna<4,>=2.5 in ./tesis/lib/python3.10/site-packages (from requests->s3prl) (3.6)\n",
      "Requirement already satisfied: urllib3<3,>=1.21.1 in ./tesis/lib/python3.10/site-packages (from requests->s3prl) (2.2.1)\n",
      "Requirement already satisfied: charset-normalizer<4,>=2 in ./tesis/lib/python3.10/site-packages (from requests->s3prl) (3.3.2)\n",
      "Requirement already satisfied: packaging>=20.0 in ./tesis/lib/python3.10/site-packages (from transformers->s3prl) (23.2)\n",
      "Requirement already satisfied: tokenizers<0.19,>=0.14 in ./tesis/lib/python3.10/site-packages (from transformers->s3prl) (0.15.2)\n",
      "Requirement already satisfied: huggingface-hub<1.0,>=0.19.3 in ./tesis/lib/python3.10/site-packages (from transformers->s3prl) (0.21.3)\n",
      "Requirement already satisfied: regex!=2019.12.17 in ./tesis/lib/python3.10/site-packages (from transformers->s3prl) (2023.12.25)\n",
      "Requirement already satisfied: safetensors>=0.4.1 in ./tesis/lib/python3.10/site-packages (from transformers->s3prl) (0.4.2)\n",
      "Requirement already satisfied: MarkupSafe>=2.0 in ./tesis/lib/python3.10/site-packages (from jinja2->torch!=1.10.0,>=1.8.0->s3prl) (2.1.5)\n",
      "Requirement already satisfied: mpmath>=0.19 in ./tesis/lib/python3.10/site-packages (from sympy->torch!=1.10.0,>=1.8.0->s3prl) (1.3.0)\n",
      "Found existing installation: torch 2.2.1\n",
      "Uninstalling torch-2.2.1:\n",
      "  Would remove:\n",
      "    /home/chechu/Documents/Tesis/analysis/tesis/bin/convert-caffe2-to-onnx\n",
      "    /home/chechu/Documents/Tesis/analysis/tesis/bin/convert-onnx-to-caffe2\n",
      "    /home/chechu/Documents/Tesis/analysis/tesis/bin/torchrun\n",
      "    /home/chechu/Documents/Tesis/analysis/tesis/lib/python3.10/site-packages/functorch/*\n",
      "    /home/chechu/Documents/Tesis/analysis/tesis/lib/python3.10/site-packages/torch-2.2.1.dist-info/*\n",
      "    /home/chechu/Documents/Tesis/analysis/tesis/lib/python3.10/site-packages/torch/*\n",
      "    /home/chechu/Documents/Tesis/analysis/tesis/lib/python3.10/site-packages/torchgen/*\n",
      "Proceed (Y/n)? ^C\n",
      "\u001b[31mERROR: Operation cancelled by user\u001b[0m\u001b[31m\n",
      "\u001b[0mFound existing installation: torchaudio 2.2.1\n",
      "Uninstalling torchaudio-2.2.1:\n",
      "  Would remove:\n",
      "    /home/chechu/Documents/Tesis/analysis/tesis/lib/python3.10/site-packages/torchaudio-2.2.1.dist-info/*\n",
      "    /home/chechu/Documents/Tesis/analysis/tesis/lib/python3.10/site-packages/torchaudio/*\n",
      "    /home/chechu/Documents/Tesis/analysis/tesis/lib/python3.10/site-packages/torio/*\n",
      "Proceed (Y/n)? "
     ]
    }
   ],
   "source": [
    "!pip install s3prl\n",
    "!pip uninstall torch\n",
    "!pip uninstall torchaudio"
   ]
  },
  {
   "cell_type": "code",
   "execution_count": null,
   "metadata": {},
   "outputs": [],
   "source": [
    "# To load the collection from the file\n",
    "from chroma_cumber import Chroma\n",
    "# Open the file in binary read mode\n",
    "with open('words_embeddings.pklz', 'rb') as file:\n",
    "    # Use Chroma.load to read, decompress, and unpickle the collection\n",
    "    loaded_collection = Chroma.load(file)\n",
    "\n",
    "print(\"Collection loaded successfully.\")\n",
    "# You can now work with loaded_collection as needed\n"
   ]
  }
 ],
 "metadata": {
  "kernelspec": {
   "display_name": "tesis",
   "language": "python",
   "name": "python3"
  },
  "language_info": {
   "codemirror_mode": {
    "name": "ipython",
    "version": 3
   },
   "file_extension": ".py",
   "mimetype": "text/x-python",
   "name": "python",
   "nbconvert_exporter": "python",
   "pygments_lexer": "ipython3",
   "version": "3.10.12"
  }
 },
 "nbformat": 4,
 "nbformat_minor": 2
}
